{
 "cells": [
  {
   "cell_type": "code",
   "execution_count": 1,
   "metadata": {},
   "outputs": [
    {
     "name": "stdout",
     "output_type": "stream",
     "text": [
      "1334\n"
     ]
    }
   ],
   "source": [
    "filename = 'glob.txt'\n",
    "\n",
    "with open(filename, 'r') as file:\n",
    "    lines = file.read().splitlines()\n",
    "\n",
    "sequences = []\n",
    "seq = ''\n",
    "for line in lines:\n",
    "    if line.startswith('>'):\n",
    "        if seq != '':\n",
    "            sequences.append(seq)\n",
    "        seq = ''\n",
    "    else:\n",
    "        seq += line\n",
    "if seq != '':\n",
    "    sequences.append(seq)\n",
    "\n",
    "s = sequences[0]\n",
    "t = sequences[1]\n",
    "\n",
    "blosum62_str = '''\n",
    "   A  C  D  E  F  G  H  I  K  L  M  N  P  Q  R  S  T  V  W  Y\n",
    "A  4  0 -2 -1 -2  0 -2 -1 -1 -1 -1 -2 -1 -1 -1  1  0  0 -3 -2\n",
    "C  0  9 -3 -4 -2 -3 -3 -1 -3 -1 -1 -3 -3 -3 -3 -1 -1 -1 -2 -2\n",
    "D -2 -3  6  2 -3 -1 -1 -3 -1 -4 -3  1 -1  0 -2  0 -1 -3 -4 -3\n",
    "E -1 -4  2  5 -3 -2  0 -3  1 -3 -2  0 -1  2  0  0 -1 -2 -3 -2\n",
    "F -2 -2 -3 -3  6 -3 -1  0 -3  0  0 -3 -4 -3 -3 -2 -2 -1  1  3\n",
    "G  0 -3 -1 -2 -3  6 -2 -4 -2 -4 -3  0 -2 -2 -2  0 -2 -3 -2 -3\n",
    "H -2 -3 -1  0 -1 -2  8 -3 -1 -3 -2  1 -2  0  0 -1 -2 -3 -2  2\n",
    "I -1 -1 -3 -3  0 -4 -3  4 -3  2  1 -3 -3 -3 -3 -2 -1  3 -3 -1\n",
    "K -1 -3 -1  1 -3 -2 -1 -3  5 -2 -1  0 -1  1  2  0 -1 -2 -3 -2\n",
    "L -1 -1 -4 -3  0 -4 -3  2 -2  4  2 -3 -3 -2 -2 -2 -1  1 -2 -1\n",
    "M -1 -1 -3 -2  0 -3 -2  1 -1  2  5 -2 -2  0 -1 -1 -1  1 -1 -1\n",
    "N -2 -3  1  0 -3  0  1 -3  0 -3 -2  6 -2  0  0  1  0 -3 -4 -2\n",
    "P -1 -3 -1 -1 -4 -2 -2 -3 -1 -3 -2 -2  7 -1 -2 -1 -1 -2 -4 -3\n",
    "Q -1 -3  0  2 -3 -2  0 -3  1 -2  0  0 -1  5  1  0 -1 -2 -2 -1\n",
    "R -1 -3 -2  0 -3 -2  0 -3  2 -2 -1  0 -2  1  5 -1 -1 -3 -3 -2\n",
    "S  1 -1  0  0 -2  0 -1 -2  0 -2 -1  1 -1  0 -1  4  1 -2 -3 -2\n",
    "T  0 -1 -1 -1 -2 -2 -2 -1 -1 -1 -1  0 -1 -1 -1  1  5  0 -2 -2\n",
    "V  0 -1 -3 -2 -1 -3 -3  3 -2  1  1 -3 -2 -2 -3 -2  0  4 -3 -1\n",
    "W -3 -2 -4 -3  1 -2 -2 -3 -3 -2 -1 -4 -4 -2 -3 -3 -2 -3 11  2\n",
    "Y -2 -2 -3 -2  3 -3  2 -1 -2 -1 -1 -2 -3 -1 -2 -2 -2 -1  2  7\n",
    "'''\n",
    "\n",
    "blosum62 = {}\n",
    "lines = blosum62_str.strip().split('\\n')\n",
    "amino_acids = lines[0].split()\n",
    "for line in lines[1:]:\n",
    "    parts = line.split()\n",
    "    aa1 = parts[0]\n",
    "    scores = parts[1:]\n",
    "    for i in range(len(scores)):\n",
    "        aa2 = amino_acids[i]\n",
    "        blosum62[(aa1, aa2)] = int(scores[i])\n",
    "\n",
    "gap_penalty = -5\n",
    "m = len(s)\n",
    "n = len(t)\n",
    "\n",
    "score_matrix = [[0] * (n + 1) for _ in range(m + 1)]\n",
    "\n",
    "for i in range(1, m + 1):\n",
    "    score_matrix[i][0] = score_matrix[i - 1][0] + gap_penalty\n",
    "for j in range(1, n + 1):\n",
    "    score_matrix[0][j] = score_matrix[0][j - 1] + gap_penalty\n",
    "\n",
    "for i in range(1, m + 1):\n",
    "    for j in range(1, n + 1):\n",
    "        match = score_matrix[i - 1][j - 1] + blosum62[(s[i - 1], t[j - 1])]\n",
    "        delete = score_matrix[i - 1][j] + gap_penalty\n",
    "        insert = score_matrix[i][j - 1] + gap_penalty\n",
    "        score_matrix[i][j] = max(match, delete, insert)\n",
    "\n",
    "alignment_score = score_matrix[m][n]\n",
    "print(alignment_score)"
   ]
  }
 ],
 "metadata": {
  "kernelspec": {
   "display_name": "Python 3",
   "language": "python",
   "name": "python3"
  },
  "language_info": {
   "codemirror_mode": {
    "name": "ipython",
    "version": 3
   },
   "file_extension": ".py",
   "mimetype": "text/x-python",
   "name": "python",
   "nbconvert_exporter": "python",
   "pygments_lexer": "ipython3",
   "version": "3.12.0"
  }
 },
 "nbformat": 4,
 "nbformat_minor": 2
}
