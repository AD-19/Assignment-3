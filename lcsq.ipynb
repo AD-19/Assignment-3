{
 "cells": [
  {
   "cell_type": "code",
   "execution_count": 1,
   "metadata": {},
   "outputs": [
    {
     "name": "stdout",
     "output_type": "stream",
     "text": [
      "TTCGACAAACCCCTGCTTTCCCCCGCTACCCAAGCTTTTTTAGCAGGATCCTCGGGGGAGACCGTTCATCGCTTCCACCGATTTGTCGGTCCGAAGTCCACACCCGTAACTTAAAAAAAAGCACTACACACCTTGTACGCCCTGTGACAAGCCAAAGAAGAATCAAGTGTTGCATTAGATTGTCGAATCCCAAACCCAAAACGATCGAACGATGCTGCCTGGGAGGTTTAAATGATTGGGAAACGAACCAACGAATCATACGTCGCCGATGCGAAGGTGGCTTACTCTTTGCCTTATCGCACAAACCAGGTCGTCCCAAGTGGCCCCTTATGAAGAGGGCTCCAAAAAAGAGACGACCAGATTCCCGGACCGCAGGCAAGTTGAAGTATGTTTGTGCTTAACCGATCACACTGTACCAGGGGTTTGGTGCAAAGGGTAATCTTAGCTACACTTAAGGAGCTACGCTTTAGCAGTTCGCTTACCGCGAACTTTAAGCTACTCTCCGATAAGGGCCGGGTACCTTTTCAATAAGGAATTCTTTAATCGGACATTTAACAGAAATGAGAAAGCCGTTGGGGAGTATTTGCCGCCATCCC\n"
     ]
    }
   ],
   "source": [
    "filename = 'lcsq.txt'\n",
    "\n",
    "with open(filename, 'r') as file:\n",
    "    lines = file.read().splitlines()\n",
    "\n",
    "sequences = []\n",
    "sequence = ''\n",
    "for line in lines:\n",
    "    if line.startswith('>'):\n",
    "        if sequence != '':\n",
    "            sequences.append(sequence)\n",
    "        sequence = ''\n",
    "    else:\n",
    "        sequence += line\n",
    "if sequence != '':\n",
    "    sequences.append(sequence)\n",
    "\n",
    "s = sequences[0]\n",
    "t = sequences[1]\n",
    "\n",
    "m = len(s)\n",
    "n = len(t)\n",
    "\n",
    "matrix = [[0] * (n + 1) for c in range(m + 1)]\n",
    "\n",
    "for i in range(m):\n",
    "    for j in range(n):\n",
    "        if s[i] == t[j]:\n",
    "            matrix[i + 1][j + 1] = matrix[i][j] + 1\n",
    "        else:\n",
    "            if matrix[i][j + 1] > matrix[i + 1][j]:\n",
    "                matrix[i + 1][j + 1] = matrix[i][j + 1]\n",
    "            else:\n",
    "                matrix[i + 1][j + 1] = matrix[i + 1][j]\n",
    "\n",
    "result = ''\n",
    "i = m\n",
    "j = n\n",
    "while i > 0 and j > 0:\n",
    "    if s[i - 1] == t[j - 1]:\n",
    "        result = s[i - 1] + result\n",
    "        i -= 1\n",
    "        j -= 1\n",
    "    else:\n",
    "        if matrix[i - 1][j] > matrix[i][j - 1]:\n",
    "            i -= 1\n",
    "        else:\n",
    "            j -= 1\n",
    "\n",
    "print(result)"
   ]
  }
 ],
 "metadata": {
  "kernelspec": {
   "display_name": "Python 3",
   "language": "python",
   "name": "python3"
  },
  "language_info": {
   "codemirror_mode": {
    "name": "ipython",
    "version": 3
   },
   "file_extension": ".py",
   "mimetype": "text/x-python",
   "name": "python",
   "nbconvert_exporter": "python",
   "pygments_lexer": "ipython3",
   "version": "3.12.0"
  }
 },
 "nbformat": 4,
 "nbformat_minor": 2
}
