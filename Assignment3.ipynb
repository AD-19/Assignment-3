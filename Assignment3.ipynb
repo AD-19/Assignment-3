{
 "cells": [
  {
   "cell_type": "markdown",
   "id": "c901475e",
   "metadata": {},
   "source": [
    "# ctea.ipynb"
   ]
  },
  {
   "cell_type": "code",
   "execution_count": 2,
   "id": "bf581503",
   "metadata": {},
   "outputs": [
    {
     "name": "stdout",
     "output_type": "stream",
     "text": [
      "61696040\n"
     ]
    }
   ],
   "source": [
    "filename = 'ctea.txt'\n",
    "\n",
    "with open(filename, 'r') as file:\n",
    "    lines = file.read().splitlines()\n",
    "\n",
    "sequences = []\n",
    "seq = ''\n",
    "for line in lines:\n",
    "    if line.startswith('>'):\n",
    "        if seq != '':\n",
    "            sequences.append(seq)\n",
    "        seq = ''\n",
    "    else:\n",
    "        seq += line\n",
    "if seq != '':\n",
    "    sequences.append(seq)\n",
    "\n",
    "s = sequences[0]\n",
    "t = sequences[1]\n",
    "\n",
    "mod = 134217727\n",
    "m = len(s)\n",
    "n = len(t)\n",
    "\n",
    "dp = [[0] * (n + 1) for c in range(m + 1)]\n",
    "count = [[0] * (n + 1) for d in range(m + 1)]\n",
    "\n",
    "for i in range(m + 1):\n",
    "    dp[i][0] = i\n",
    "    count[i][0] = 1\n",
    "for j in range(n + 1):\n",
    "    dp[0][j] = j\n",
    "    count[0][j] = 1\n",
    "\n",
    "for i in range(1, m + 1):\n",
    "    for j in range(1, n + 1):\n",
    "        if s[i - 1] == t[j - 1]:\n",
    "            cost = 0\n",
    "        else:\n",
    "            cost = 1\n",
    "\n",
    "        options = [\n",
    "            (dp[i - 1][j] + 1, count[i - 1][j]),          # Delete\n",
    "            (dp[i][j - 1] + 1, count[i][j - 1]),          # Insert\n",
    "            (dp[i - 1][j - 1] + cost, count[i - 1][j - 1])  # Subs\n",
    "        ]\n",
    "\n",
    "        min_cost = min(options, key=lambda x: x[0])[0]\n",
    "        dp[i][j] = min_cost\n",
    "        total = 0\n",
    "        for option_cost, option_count in options:\n",
    "            if option_cost == min_cost:\n",
    "                total = (total + option_count) % mod\n",
    "        count[i][j] = total\n",
    "\n",
    "print(count[m][n] % mod)"
   ]
  },
  {
   "cell_type": "markdown",
   "id": "4ae0cfa4",
   "metadata": {},
   "source": [
    "# edit.ipynb"
   ]
  },
  {
   "cell_type": "code",
   "execution_count": 1,
   "id": "eafd2b1c",
   "metadata": {},
   "outputs": [
    {
     "name": "stdout",
     "output_type": "stream",
     "text": [
      "403\n"
     ]
    }
   ],
   "source": [
    "filename = 'edit.txt'\n",
    "\n",
    "with open(filename, 'r') as file:\n",
    "    lines = file.read().splitlines()\n",
    "\n",
    "sequences = []\n",
    "seq = ''\n",
    "for line in lines:\n",
    "    if line.startswith('>'):\n",
    "        if seq != '':\n",
    "            sequences.append(seq)\n",
    "        seq = ''\n",
    "    else:\n",
    "        seq += line\n",
    "if seq != '':\n",
    "    sequences.append(seq)\n",
    "\n",
    "s = sequences[0]\n",
    "t = sequences[1]\n",
    "\n",
    "m = len(s)\n",
    "n = len(t)\n",
    "\n",
    "matrix = [[0] * (n + 1) for c in range(m + 1)]\n",
    "\n",
    "for i in range(m + 1):\n",
    "    matrix[i][0] = i\n",
    "for j in range(n + 1):\n",
    "    matrix[0][j] = j\n",
    "\n",
    "for i in range(1, m + 1):\n",
    "    for j in range(1, n + 1):\n",
    "        if s[i - 1] == t[j - 1]:\n",
    "            cost = 0\n",
    "        else:\n",
    "            cost = 1\n",
    "        matrix[i][j] = min(\n",
    "            matrix[i - 1][j] + 1,\n",
    "            matrix[i][j - 1] + 1,\n",
    "            matrix[i - 1][j - 1] + cost\n",
    "        )\n",
    "\n",
    "print(matrix[m][n])"
   ]
  },
  {
   "cell_type": "markdown",
   "id": "bf1ef721",
   "metadata": {},
   "source": [
    "# edta.ipynb"
   ]
  },
  {
   "cell_type": "code",
   "execution_count": null,
   "id": "d5b8b8e0",
   "metadata": {},
   "outputs": [],
   "source": [
    "filename = 'edta.txt'\n",
    "\n",
    "with open(filename, 'r') as file:\n",
    "    lines = file.read().splitlines()\n",
    "\n",
    "sequences = []\n",
    "seq = ''\n",
    "for line in lines:\n",
    "    if line.startswith('>'):\n",
    "        if seq != '':\n",
    "            sequences.append(seq)\n",
    "        seq = ''\n",
    "    else:\n",
    "        seq += line\n",
    "if seq != '':\n",
    "    sequences.append(seq)\n",
    "\n",
    "s = sequences[0]\n",
    "t = sequences[1]\n",
    "\n",
    "m = len(s)\n",
    "n = len(t)\n",
    "\n",
    "dp = [[0] * (n + 1) for c in range(m + 1)]\n",
    "ptr = [[''] * (n + 1) for d in range(m + 1)]\n",
    "\n",
    "for i in range(m + 1):\n",
    "    dp[i][0] = i\n",
    "    ptr[i][0] = 'up'\n",
    "for j in range(n + 1):\n",
    "    dp[0][j] = j\n",
    "    ptr[0][j] = 'left'\n",
    "\n",
    "for i in range(1, m + 1):\n",
    "    for j in range(1, n + 1):\n",
    "        if s[i - 1] == t[j - 1]:\n",
    "            dp[i][j] = dp[i - 1][j - 1]\n",
    "            ptr[i][j] = 'diag'\n",
    "        else:\n",
    "            choices = [\n",
    "                (dp[i - 1][j] + 1, 'up'),\n",
    "                (dp[i][j - 1] + 1, 'left'),\n",
    "                (dp[i - 1][j - 1] + 1, 'diag')\n",
    "            ]\n",
    "            dp[i][j], ptr[i][j] = min(choices)\n",
    "\n",
    "i = m\n",
    "j = n\n",
    "s_align = ''\n",
    "t_align = ''\n",
    "\n",
    "while i > 0 or j > 0:\n",
    "    if ptr[i][j] == 'diag':\n",
    "        s_align = s[i - 1] + s_align\n",
    "        t_align = t[j - 1] + t_align\n",
    "        i -= 1\n",
    "        j -= 1\n",
    "    elif ptr[i][j] == 'up':\n",
    "        s_align = s[i - 1] + s_align\n",
    "        t_align = '-' + t_align\n",
    "        i -= 1\n",
    "    elif ptr[i][j] == 'left':\n",
    "        s_align = '-' + s_align\n",
    "        t_align = t[j - 1] + t_align\n",
    "        j -= 1\n",
    "\n",
    "print(dp[m][n])\n",
    "print(s_align)\n",
    "print(t_align)"
   ]
  },
  {
   "cell_type": "markdown",
   "id": "db5e659c",
   "metadata": {},
   "source": [
    "# exercises.ipynb"
   ]
  },
  {
   "cell_type": "code",
   "execution_count": 38,
   "id": "0f940a41",
   "metadata": {
    "executionInfo": {
     "elapsed": 403,
     "status": "ok",
     "timestamp": 1732181925083,
     "user": {
      "displayName": "Marco Zecchini",
      "userId": "04080461015443912025"
     },
     "user_tz": -60
    },
    "id": "NZLKEFGqpkza"
   },
   "outputs": [],
   "source": [
    "from random import randint, choice\n",
    "from functools import reduce"
   ]
  },
  {
   "cell_type": "markdown",
   "id": "d29f46d9",
   "metadata": {
    "id": "7kMDITdMpkzc"
   },
   "source": [
    "# Map Reduce\n",
    "\n",
    "In the part of the assignment you are requested to use Map Reduce paradigm to solve the following exercises.\n",
    "\n",
    "**NOTE THAT**: **A solution that does not use map reduce is not valid!**"
   ]
  },
  {
   "cell_type": "markdown",
   "id": "1ce0d33c",
   "metadata": {
    "id": "3UvFKq5Dpkzd"
   },
   "source": [
    "# Exercise 1\n",
    "\n",
    "You have a list of dictionaries, each representing a student with the following properties: a name and an array of test scores. Your task is to use map, filter, and reduce to calculate the average test score for each student, and then return a list of dictionaries containing only the students whose average score is above 90."
   ]
  },
  {
   "cell_type": "code",
   "execution_count": 39,
   "id": "f13cf965",
   "metadata": {
    "id": "XnZxeOdtpkze"
   },
   "outputs": [],
   "source": [
    "students = [\n",
    "    {\"name\": \"Alice\", \"scores\": [95, 92, 88, 100]},\n",
    "    {\"name\": \"Bob\", \"scores\": [78, 81, 85, 80]},\n",
    "    {\"name\": \"Charlie\", \"scores\": [99, 91, 94, 96]},\n",
    "    {\"name\": \"Diana\", \"scores\": [85, 87, 89, 83]}\n",
    "]"
   ]
  },
  {
   "cell_type": "markdown",
   "id": "e623efe8",
   "metadata": {
    "id": "WopOVxHSpkzf"
   },
   "source": [
    "Use `map`, `reduce` and `filter` that produce an output like:"
   ]
  },
  {
   "cell_type": "code",
   "execution_count": 40,
   "id": "6e557aec",
   "metadata": {
    "id": "JGYCqweYpkzf",
    "outputId": "89230ab4-a15a-4ae5-84a3-9eb13573a4a0"
   },
   "outputs": [
    {
     "data": {
      "text/plain": [
       "[{'name': 'Alice', 'average_score': 93.75},\n",
       " {'name': 'Charlie', 'average_score': 95.0}]"
      ]
     },
     "execution_count": 40,
     "metadata": {},
     "output_type": "execute_result"
    }
   ],
   "source": [
    "[\n",
    "    {\"name\": \"Alice\", \"average_score\": 93.75},\n",
    "    {\"name\": \"Charlie\", \"average_score\": 95.0}\n",
    "]"
   ]
  },
  {
   "cell_type": "markdown",
   "id": "93a06590",
   "metadata": {
    "id": "TG5h3pN1pkzg"
   },
   "source": [
    "### Test\n",
    "Test your solution using the dataset generated by the following function."
   ]
  },
  {
   "cell_type": "code",
   "execution_count": 41,
   "id": "a1c38fc4",
   "metadata": {
    "colab": {
     "base_uri": "https://localhost:8080/"
    },
    "executionInfo": {
     "elapsed": 285,
     "status": "ok",
     "timestamp": 1732181928585,
     "user": {
      "displayName": "Marco Zecchini",
      "userId": "04080461015443912025"
     },
     "user_tz": -60
    },
    "id": "3ZB3sFT_pkzh",
    "outputId": "cf486e14-4d6f-455d-8f69-19096dfe9831"
   },
   "outputs": [
    {
     "data": {
      "text/plain": [
       "[{'name': 'Student 1', 'scores': [51, 93, 89, 74]},\n",
       " {'name': 'Student 2', 'scores': [76, 78, 74, 88]},\n",
       " {'name': 'Student 3', 'scores': [61, 100, 71, 76, 85, 94]}]"
      ]
     },
     "execution_count": 41,
     "metadata": {},
     "output_type": "execute_result"
    }
   ],
   "source": [
    "def generate_random_student_dataset(num_students=50):\n",
    "    names = [f\"Student {i}\" for i in range(1, num_students + 1)]\n",
    "    dataset = [\n",
    "        {\n",
    "            \"name\": name,\n",
    "            \"scores\": [randint(50, 100) for _ in range(randint(3, 6))]  # Random scores between 50 and 100\n",
    "        }\n",
    "        for name in names\n",
    "    ]\n",
    "    return dataset\n",
    "\n",
    "random_student_dataset = generate_random_student_dataset(50)\n",
    "random_student_dataset[:3]"
   ]
  },
  {
   "cell_type": "code",
   "execution_count": 42,
   "id": "c71d1097",
   "metadata": {
    "id": "MHi3FLeWpkzi"
   },
   "outputs": [
    {
     "name": "stdout",
     "output_type": "stream",
     "text": [
      "[]\n"
     ]
    }
   ],
   "source": [
    "etudiants = generate_random_student_dataset(50)\n",
    "\n",
    "def calculer_moyenne(etudiant):\n",
    "    somme = reduce(lambda x, y: x + y, etudiant['scores'])\n",
    "    moyenne = somme / len(etudiant['scores'])\n",
    "    return {'name': etudiant['name'], 'average_score': moyenne}\n",
    "\n",
    "etudiants_avec_moyenne = list(map(calculer_moyenne, etudiants))\n",
    "\n",
    "def plus_90(etudiant):\n",
    "    return etudiant['average_score'] > 90\n",
    "\n",
    "meilleurs_etudiants = list(filter(plus_90, etudiants_avec_moyenne))\n",
    "\n",
    "print(meilleurs_etudiants)"
   ]
  },
  {
   "cell_type": "markdown",
   "id": "f547bc43",
   "metadata": {
    "id": "hWL_3xWNpkzj"
   },
   "source": [
    "## Exercise 2\n",
    "\n",
    "You have a list of dictionaries, each representing a product with the following properties: name, price, and category. Using the functions `map`, `filter`, and `reduce`, calculate the average price of the products in each category and return a list of dictionaries containing only the categories where the average price exceeds 50.\n",
    "\n",
    "Example input:"
   ]
  },
  {
   "cell_type": "code",
   "execution_count": 43,
   "id": "6d86b4c2",
   "metadata": {
    "id": "wwk7f8Ihpkzk"
   },
   "outputs": [],
   "source": [
    "products = [\n",
    "    {\"name\": \"Product A\", \"price\": 60, \"category\": \"Electronics\"},\n",
    "    {\"name\": \"Product B\", \"price\": 40, \"category\": \"Electronics\"},\n",
    "    {\"name\": \"Product C\", \"price\": 70, \"category\": \"Home\"},\n",
    "    {\"name\": \"Product D\", \"price\": 30, \"category\": \"Home\"},\n",
    "    {\"name\": \"Product E\", \"price\": 90, \"category\": \"Sports\"}\n",
    "]"
   ]
  },
  {
   "cell_type": "markdown",
   "id": "55737aef",
   "metadata": {
    "id": "Agz3cP7Ppkzl"
   },
   "source": [
    "Use `map`, `reduce` and `filter` that produce an output like:"
   ]
  },
  {
   "cell_type": "code",
   "execution_count": 44,
   "id": "79bfd3de",
   "metadata": {
    "id": "LbFtUV_apkzl",
    "outputId": "745cdcbe-7320-4a08-de7b-0e1bcb84473e"
   },
   "outputs": [
    {
     "data": {
      "text/plain": [
       "[{'category': 'Electronics', 'average_price': 50.0},\n",
       " {'category': 'Sports', 'average_price': 90.0}]"
      ]
     },
     "execution_count": 44,
     "metadata": {},
     "output_type": "execute_result"
    }
   ],
   "source": [
    "[\n",
    "    {\"category\": \"Electronics\", \"average_price\": 50.0},\n",
    "    {\"category\": \"Sports\", \"average_price\": 90.0}\n",
    "]"
   ]
  },
  {
   "cell_type": "markdown",
   "id": "1de24980",
   "metadata": {
    "id": "nKBEAQE3pkzl"
   },
   "source": [
    "### Test\n",
    "Test your solution using the dataset generated by the following function."
   ]
  },
  {
   "cell_type": "code",
   "execution_count": 45,
   "id": "416fc900",
   "metadata": {
    "colab": {
     "base_uri": "https://localhost:8080/"
    },
    "executionInfo": {
     "elapsed": 284,
     "status": "ok",
     "timestamp": 1732181933353,
     "user": {
      "displayName": "Marco Zecchini",
      "userId": "04080461015443912025"
     },
     "user_tz": -60
    },
    "id": "0qj_9nZSpkzm",
    "outputId": "7bab35c7-84d0-4603-a1da-dc4a76768179"
   },
   "outputs": [
    {
     "data": {
      "text/plain": [
       "[{'name': 'Product 1', 'price': 186, 'category': 'Books'},\n",
       " {'name': 'Product 2', 'price': 76, 'category': 'Sports'},\n",
       " {'name': 'Product 3', 'price': 115, 'category': 'Home'},\n",
       " {'name': 'Product 4', 'price': 133, 'category': 'Toys'},\n",
       " {'name': 'Product 5', 'price': 80, 'category': 'Books'}]"
      ]
     },
     "execution_count": 45,
     "metadata": {},
     "output_type": "execute_result"
    }
   ],
   "source": [
    "def generate_random_product_dataset(num_products=100):\n",
    "    categories = [\"Electronics\", \"Home\", \"Sports\", \"Books\", \"Clothing\", \"Toys\"]\n",
    "    dataset = [\n",
    "        {\n",
    "            \"name\": f\"Product {i}\",\n",
    "            \"price\": randint(10, 200),  # Random price between 10 and 200\n",
    "            \"category\": choice(categories),  # Randomly choose a category\n",
    "        }\n",
    "        for i in range(1, num_products + 1)\n",
    "    ]\n",
    "    return dataset\n",
    "\n",
    "# Example of using the function\n",
    "random_dataset = generate_random_product_dataset(100)\n",
    "random_dataset[:5]  # Display the first 5 entries to check the dataset structure\n"
   ]
  },
  {
   "cell_type": "code",
   "execution_count": null,
   "id": "8fcfd67e",
   "metadata": {
    "id": "AG9V3Wt7pkzm"
   },
   "outputs": [],
   "source": [
    "products = generate_random_product_dataset(100)\n",
    "\n",
    "produits_par_categorie = {}\n",
    "for produit in products:\n",
    "    categorie = produit['category']\n",
    "    if categorie not in produits_par_categorie:\n",
    "        produits_par_categorie[categorie] = []\n",
    "    produits_par_categorie[categorie].append(produit)\n",
    "\n",
    "def calculer_moyenne(prix_liste):\n",
    "    somme = reduce(lambda x, y: x + y, prix_liste)\n",
    "    moyenne = somme / len(prix_liste)\n",
    "    return moyenne\n",
    "\n",
    "moyennes_par_categorie = list(map(\n",
    "    lambda item: {'category': item[0], 'average_price': calculer_moyenne(list(map(lambda produit: produit['price'], item[1])))},\n",
    "    produits_par_categorie.items()\n",
    "))\n",
    "\n",
    "categories_filtrees = list(filter(\n",
    "    lambda categorie: categorie['average_price'] > 50,\n",
    "    moyennes_par_categorie\n",
    "))\n",
    "\n",
    "print(categories_filtrees)\n"
   ]
  },
  {
   "cell_type": "markdown",
   "id": "8259cae5",
   "metadata": {
    "id": "hivtZEf7pkzm"
   },
   "source": [
    "# Exercise 3\n",
    "\n",
    "You have a list of dictionaries, each representing an employee with the following properties: name, salary, and department. Your task is to use `map`, `filter`, and `reduce` to calculate the average salary for each department and return a list of dictionaries containing only the departments where the average salary is above 65,000.\n",
    "\n",
    "**Example Input**"
   ]
  },
  {
   "cell_type": "code",
   "execution_count": 47,
   "id": "02170e9f",
   "metadata": {
    "executionInfo": {
     "elapsed": 313,
     "status": "ok",
     "timestamp": 1732181936402,
     "user": {
      "displayName": "Marco Zecchini",
      "userId": "04080461015443912025"
     },
     "user_tz": -60
    },
    "id": "N8vjLRHxpkzm"
   },
   "outputs": [],
   "source": [
    "employees = [\n",
    "    {\"name\": \"John\", \"salary\": 70000, \"department\": \"Engineering\"},\n",
    "    {\"name\": \"Jane\", \"salary\": 75000, \"department\": \"Engineering\"},\n",
    "    {\"name\": \"Alice\", \"salary\": 60000, \"department\": \"HR\"},\n",
    "    {\"name\": \"Bob\", \"salary\": 68000, \"department\": \"HR\"},\n",
    "    {\"name\": \"Charlie\", \"salary\": 90000, \"department\": \"Marketing\"},\n",
    "    {\"name\": \"Diana\", \"salary\": 50000, \"department\": \"Marketing\"}\n",
    "]"
   ]
  },
  {
   "cell_type": "markdown",
   "id": "dad633e1",
   "metadata": {
    "id": "otSniMO7pkzm"
   },
   "source": [
    "Use `map`, `reduce` and `filter` that produce an output like:"
   ]
  },
  {
   "cell_type": "code",
   "execution_count": 48,
   "id": "42a8eb37",
   "metadata": {
    "id": "Kx4HT8RXpkzn",
    "outputId": "8653ff13-815d-4040-c68e-fc4a6825134d"
   },
   "outputs": [
    {
     "data": {
      "text/plain": [
       "[{'department': 'Engineering', 'average_salary': 72500.0},\n",
       " {'department': 'Marketing', 'average_salary': 70000.0}]"
      ]
     },
     "execution_count": 48,
     "metadata": {},
     "output_type": "execute_result"
    }
   ],
   "source": [
    "[\n",
    "    {\"department\": \"Engineering\", \"average_salary\": 72500.0},\n",
    "    {\"department\": \"Marketing\", \"average_salary\": 70000.0}\n",
    "]"
   ]
  },
  {
   "cell_type": "markdown",
   "id": "f44f2c90",
   "metadata": {
    "id": "GD_xlB78pkzn"
   },
   "source": [
    "### Test\n",
    "\n",
    "Test your solution using the dataset generated by the following function."
   ]
  },
  {
   "cell_type": "code",
   "execution_count": 49,
   "id": "27def896",
   "metadata": {
    "colab": {
     "base_uri": "https://localhost:8080/"
    },
    "executionInfo": {
     "elapsed": 508,
     "status": "ok",
     "timestamp": 1732181939215,
     "user": {
      "displayName": "Marco Zecchini",
      "userId": "04080461015443912025"
     },
     "user_tz": -60
    },
    "id": "RhR9JLK-pkzn",
    "outputId": "72bc934d-4d3c-477e-cf84-3cf1d8fae61a"
   },
   "outputs": [
    {
     "data": {
      "text/plain": [
       "[{'name': 'Employee 1', 'salary': 107134, 'department': 'Marketing'},\n",
       " {'name': 'Employee 2', 'salary': 46928, 'department': 'Marketing'},\n",
       " {'name': 'Employee 3', 'salary': 83418, 'department': 'HR'}]"
      ]
     },
     "execution_count": 49,
     "metadata": {},
     "output_type": "execute_result"
    }
   ],
   "source": [
    "def generate_random_employee_dataset(num_employees=50):\n",
    "    departments = [\"Engineering\", \"HR\", \"Marketing\", \"Sales\", \"Finance\", \"IT\"]\n",
    "    dataset = [\n",
    "        {\n",
    "            \"name\": f\"Employee {i}\",\n",
    "            \"salary\": randint(40000, 120000),  # Random salary between 40,000 and 120,000\n",
    "            \"department\": choice(departments)  # Randomly choose a department\n",
    "        }\n",
    "        for i in range(1, num_employees + 1)\n",
    "    ]\n",
    "    return dataset\n",
    "\n",
    "random_employee_dataset = generate_random_employee_dataset(50)\n",
    "\n",
    "random_employee_dataset[:3]  # Display the first 3 entries of each dataset for checking\n"
   ]
  },
  {
   "cell_type": "code",
   "execution_count": null,
   "id": "ed48088b",
   "metadata": {
    "id": "pt9m6NK-pkzo"
   },
   "outputs": [],
   "source": [
    "employees = generate_random_employee_dataset(50)\n",
    "\n",
    "employes_par_departement = {}\n",
    "for employe in employees:\n",
    "    departement = employe['department']\n",
    "    if departement not in employes_par_departement:\n",
    "        employes_par_departement[departement] = []\n",
    "    employes_par_departement[departement].append(employe['salary'])\n",
    "\n",
    "def calculer_moyenne(salaires):\n",
    "    total = reduce(lambda x, y: x + y, salaires)\n",
    "    moyenne = total / len(salaires)\n",
    "    return moyenne\n",
    "\n",
    "moyennes_salaires = list(map(\n",
    "    lambda item: {'department': item[0], 'average_salary': calculer_moyenne(item[1])},\n",
    "    employes_par_departement.items()\n",
    "))\n",
    "\n",
    "departements_filtres = list(filter(\n",
    "    lambda dept: dept['average_salary'] > 65000,\n",
    "    moyennes_salaires\n",
    "))\n",
    "\n",
    "print(departements_filtres)\n"
   ]
  },
  {
   "cell_type": "markdown",
   "id": "e3580c11",
   "metadata": {
    "id": "bzxr0v2Rpkzo"
   },
   "source": [
    "# Biopython\n",
    "\n",
    "Write the following five functions to analyze global alignments between two sequences using Biopython's `pairwise2` module:\n",
    "\n",
    "1. **countMatches(s1, s2)**  \n",
    "   This function takes two sequences (`s1`, `s2`) aligned using global alignment (pairwise2.globalxx) of the same length. It returns the number of positions where the elements of both sequences match.\n",
    "\n",
    "2. **countMismatches(s1, s2)**  \n",
    "   This function takes two sequences (`s1`, `s2`) aligned using global alignment of the same length. It returns the number of positions where the elements of the two sequences are different (i.e., they are not gaps, and the characters do not match).\n",
    "\n",
    "3. **countGapOpens(s1, s2)**  \n",
    "   This function takes two sequences (`s1`, `s2`) aligned using global alignment of the same length. It returns the number of gap openings in the alignment (a gap is opened when a '-' appears in the sequence).\n",
    "\n",
    "4. **countGapExtensions(s1, s2)**  \n",
    "   This function takes two sequences (`s1`, `s2`) aligned using global alignment of the same length. It returns the number of gap extensions (where '-' continues in the alignment after an initial gap is opened).\n",
    "\n",
    "5. **getScore(s1, s2, matchScore, mismatchPenalty, gapOpenPenalty, gapExtensionPenalty)**  \n",
    "   This function takes two sequences (`s1`, `s2`) aligned using global alignment and returns the alignment score based on the provided scoring scheme: `matchScore` for matches, `mismatchPenalty` for mismatches, `gapOpenPenalty` for opening a gap, and `gapExtensionPenalty` for extending a gap."
   ]
  },
  {
   "cell_type": "code",
   "execution_count": null,
   "id": "34f4ee82",
   "metadata": {
    "id": "5PIaf6BUpkzo"
   },
   "outputs": [],
   "source": [
    "from Bio import pairwise2\n",
    "from Bio import SeqIO\n",
    "\n",
    "def countMatches(s1, s2):\n",
    "    count = 0\n",
    "    for a, b in zip(s1, s2):\n",
    "        if a == b and a != '-' and b != '-':\n",
    "            count += 1\n",
    "    return count\n",
    "\n",
    "def countMismatches(s1, s2):\n",
    "    count = 0\n",
    "    for a, b in zip(s1, s2):\n",
    "        if a != b and a != '-' and b != '-':\n",
    "            count += 1\n",
    "    return count\n",
    "\n",
    "def countGapOpens(s1, s2):\n",
    "    count = 0\n",
    "    in_gap_s1 = False\n",
    "    in_gap_s2 = False\n",
    "    for a, b in zip(s1, s2):\n",
    "        if a == '-':\n",
    "            if not in_gap_s1:\n",
    "                count += 1\n",
    "                in_gap_s1 = True\n",
    "        else:\n",
    "            in_gap_s1 = False\n",
    "        if b == '-':\n",
    "            if not in_gap_s2:\n",
    "                count += 1\n",
    "                in_gap_s2 = True\n",
    "        else:\n",
    "            in_gap_s2 = False\n",
    "    return count\n",
    "\n",
    "def countGapExtensions(s1, s2):\n",
    "    count = 0\n",
    "    in_gap_s1 = False\n",
    "    in_gap_s2 = False\n",
    "    for a, b in zip(s1, s2):\n",
    "        if a == '-':\n",
    "            if in_gap_s1:\n",
    "                count += 1\n",
    "            in_gap_s1 = True\n",
    "        else:\n",
    "            in_gap_s1 = False\n",
    "        if b == '-':\n",
    "            if in_gap_s2:\n",
    "                count += 1\n",
    "            in_gap_s2 = True\n",
    "        else:\n",
    "            in_gap_s2 = False\n",
    "    return count\n",
    "\n",
    "def getScore(s1, s2, matchScore, mismatchPenalty, gapOpenPenalty, gapExtensionPenalty):\n",
    "    score = 0\n",
    "    in_gap_s1 = False\n",
    "    in_gap_s2 = False\n",
    "    for a, b in zip(s1, s2):\n",
    "        if a == '-' or b == '-':\n",
    "            if a == '-':\n",
    "                if not in_gap_s1:\n",
    "                    score += gapOpenPenalty\n",
    "                    in_gap_s1 = True\n",
    "                else:\n",
    "                    score += gapExtensionPenalty\n",
    "            else:\n",
    "                in_gap_s1 = False\n",
    "            if b == '-':\n",
    "                if not in_gap_s2:\n",
    "                    score += gapOpenPenalty\n",
    "                    in_gap_s2 = True\n",
    "                else:\n",
    "                    score += gapExtensionPenalty\n",
    "            else:\n",
    "                in_gap_s2 = False\n",
    "        else:\n",
    "            in_gap_s1 = False\n",
    "            in_gap_s2 = False\n",
    "            if a == b:\n",
    "                score += matchScore\n",
    "            else:\n",
    "                score += mismatchPenalty\n",
    "    return score"
   ]
  },
  {
   "cell_type": "markdown",
   "id": "da7e6fd6",
   "metadata": {
    "id": "81O19v1fpkzo"
   },
   "source": [
    "### Test\n",
    "Align the sequences of the [Interleukin-12](https://en.wikipedia.org/wiki/Interleukin_12) chain A (denoted as `s1`) from the file [`IL12A.fasta`](https://qcbsciprolab2020.readthedocs.io/en/latest/file_samples/IL12A.fasta) and the Interleukin-12 chain B (denoted as `s2`) from the file [`IL12B.fasta`](https://qcbsciprolab2020.readthedocs.io/en/latest/file_samples/IL12B.fasta) and check the score as computed from pairwise2 and from your functions."
   ]
  },
  {
   "cell_type": "code",
   "execution_count": null,
   "id": "4579af8f",
   "metadata": {
    "id": "ZBhfr3jepkzp"
   },
   "outputs": [],
   "source": [
    "s1 = str(SeqIO.read('IL12A.fasta', 'fasta').seq)\n",
    "s2 = str(SeqIO.read('IL12B.fasta', 'fasta').seq)\n",
    "\n",
    "alignments = pairwise2.align.globalms(s1, s2, 1, -1, -2, -0.5)\n",
    "alignment = alignments[0]\n",
    "aligned_s1 = alignment.seqA\n",
    "aligned_s2 = alignment.seqB\n",
    "\n",
    "score_from_functions = getScore(aligned_s1, aligned_s2, 1, -1, -2, -0.5)\n",
    "\n",
    "print(\"Matches:\", countMatches(aligned_s1, aligned_s2))\n",
    "print(\"Mismatches:\", countMismatches(aligned_s1, aligned_s2))\n",
    "print(\"Gap Opens:\", countGapOpens(aligned_s1, aligned_s2))\n",
    "print(\"Gap Extensions:\", countGapExtensions(aligned_s1, aligned_s2))\n",
    "print(\"Alignment Score from functions:\", score_from_functions)\n",
    "print(\"Alignment Score from pairwise2:\", alignment.score)"
   ]
  },
  {
   "cell_type": "markdown",
   "id": "04f25206",
   "metadata": {},
   "source": [
    "# glob.ipynb"
   ]
  },
  {
   "cell_type": "code",
   "execution_count": 1,
   "id": "c2eb35b0",
   "metadata": {},
   "outputs": [
    {
     "name": "stdout",
     "output_type": "stream",
     "text": [
      "1334\n"
     ]
    }
   ],
   "source": [
    "filename = 'glob.txt'\n",
    "\n",
    "with open(filename, 'r') as file:\n",
    "    lines = file.read().splitlines()\n",
    "\n",
    "sequences = []\n",
    "seq = ''\n",
    "for line in lines:\n",
    "    if line.startswith('>'):\n",
    "        if seq != '':\n",
    "            sequences.append(seq)\n",
    "        seq = ''\n",
    "    else:\n",
    "        seq += line\n",
    "if seq != '':\n",
    "    sequences.append(seq)\n",
    "\n",
    "s = sequences[0]\n",
    "t = sequences[1]\n",
    "\n",
    "blosum62_str = '''\n",
    "   A  C  D  E  F  G  H  I  K  L  M  N  P  Q  R  S  T  V  W  Y\n",
    "A  4  0 -2 -1 -2  0 -2 -1 -1 -1 -1 -2 -1 -1 -1  1  0  0 -3 -2\n",
    "C  0  9 -3 -4 -2 -3 -3 -1 -3 -1 -1 -3 -3 -3 -3 -1 -1 -1 -2 -2\n",
    "D -2 -3  6  2 -3 -1 -1 -3 -1 -4 -3  1 -1  0 -2  0 -1 -3 -4 -3\n",
    "E -1 -4  2  5 -3 -2  0 -3  1 -3 -2  0 -1  2  0  0 -1 -2 -3 -2\n",
    "F -2 -2 -3 -3  6 -3 -1  0 -3  0  0 -3 -4 -3 -3 -2 -2 -1  1  3\n",
    "G  0 -3 -1 -2 -3  6 -2 -4 -2 -4 -3  0 -2 -2 -2  0 -2 -3 -2 -3\n",
    "H -2 -3 -1  0 -1 -2  8 -3 -1 -3 -2  1 -2  0  0 -1 -2 -3 -2  2\n",
    "I -1 -1 -3 -3  0 -4 -3  4 -3  2  1 -3 -3 -3 -3 -2 -1  3 -3 -1\n",
    "K -1 -3 -1  1 -3 -2 -1 -3  5 -2 -1  0 -1  1  2  0 -1 -2 -3 -2\n",
    "L -1 -1 -4 -3  0 -4 -3  2 -2  4  2 -3 -3 -2 -2 -2 -1  1 -2 -1\n",
    "M -1 -1 -3 -2  0 -3 -2  1 -1  2  5 -2 -2  0 -1 -1 -1  1 -1 -1\n",
    "N -2 -3  1  0 -3  0  1 -3  0 -3 -2  6 -2  0  0  1  0 -3 -4 -2\n",
    "P -1 -3 -1 -1 -4 -2 -2 -3 -1 -3 -2 -2  7 -1 -2 -1 -1 -2 -4 -3\n",
    "Q -1 -3  0  2 -3 -2  0 -3  1 -2  0  0 -1  5  1  0 -1 -2 -2 -1\n",
    "R -1 -3 -2  0 -3 -2  0 -3  2 -2 -1  0 -2  1  5 -1 -1 -3 -3 -2\n",
    "S  1 -1  0  0 -2  0 -1 -2  0 -2 -1  1 -1  0 -1  4  1 -2 -3 -2\n",
    "T  0 -1 -1 -1 -2 -2 -2 -1 -1 -1 -1  0 -1 -1 -1  1  5  0 -2 -2\n",
    "V  0 -1 -3 -2 -1 -3 -3  3 -2  1  1 -3 -2 -2 -3 -2  0  4 -3 -1\n",
    "W -3 -2 -4 -3  1 -2 -2 -3 -3 -2 -1 -4 -4 -2 -3 -3 -2 -3 11  2\n",
    "Y -2 -2 -3 -2  3 -3  2 -1 -2 -1 -1 -2 -3 -1 -2 -2 -2 -1  2  7\n",
    "'''\n",
    "\n",
    "blosum62 = {}\n",
    "lines = blosum62_str.strip().split('\\n')\n",
    "amino_acids = lines[0].split()\n",
    "for line in lines[1:]:\n",
    "    parts = line.split()\n",
    "    aa1 = parts[0]\n",
    "    scores = parts[1:]\n",
    "    for i in range(len(scores)):\n",
    "        aa2 = amino_acids[i]\n",
    "        blosum62[(aa1, aa2)] = int(scores[i])\n",
    "\n",
    "gap_penalty = -5\n",
    "m = len(s)\n",
    "n = len(t)\n",
    "\n",
    "score_matrix = [[0] * (n + 1) for _ in range(m + 1)]\n",
    "\n",
    "for i in range(1, m + 1):\n",
    "    score_matrix[i][0] = score_matrix[i - 1][0] + gap_penalty\n",
    "for j in range(1, n + 1):\n",
    "    score_matrix[0][j] = score_matrix[0][j - 1] + gap_penalty\n",
    "\n",
    "for i in range(1, m + 1):\n",
    "    for j in range(1, n + 1):\n",
    "        match = score_matrix[i - 1][j - 1] + blosum62[(s[i - 1], t[j - 1])]\n",
    "        delete = score_matrix[i - 1][j] + gap_penalty\n",
    "        insert = score_matrix[i][j - 1] + gap_penalty\n",
    "        score_matrix[i][j] = max(match, delete, insert)\n",
    "\n",
    "alignment_score = score_matrix[m][n]\n",
    "print(alignment_score)"
   ]
  },
  {
   "cell_type": "markdown",
   "id": "d019f34c",
   "metadata": {},
   "source": [
    "# lcsq.ipynb"
   ]
  },
  {
   "cell_type": "code",
   "execution_count": null,
   "id": "1c664e79",
   "metadata": {},
   "outputs": [],
   "source": [
    "filename = 'lcsq.txt'\n",
    "\n",
    "with open(filename, 'r') as file:\n",
    "    lines = file.read().splitlines()\n",
    "\n",
    "sequences = []\n",
    "sequence = ''\n",
    "for line in lines:\n",
    "    if line.startswith('>'):\n",
    "        if sequence != '':\n",
    "            sequences.append(sequence)\n",
    "        sequence = ''\n",
    "    else:\n",
    "        sequence += line\n",
    "if sequence != '':\n",
    "    sequences.append(sequence)\n",
    "\n",
    "s = sequences[0]\n",
    "t = sequences[1]\n",
    "\n",
    "m = len(s)\n",
    "n = len(t)\n",
    "\n",
    "matrix = [[0] * (n + 1) for c in range(m + 1)]\n",
    "\n",
    "for i in range(m):\n",
    "    for j in range(n):\n",
    "        if s[i] == t[j]:\n",
    "            matrix[i + 1][j + 1] = matrix[i][j] + 1\n",
    "        else:\n",
    "            if matrix[i][j + 1] > matrix[i + 1][j]:\n",
    "                matrix[i + 1][j + 1] = matrix[i][j + 1]\n",
    "            else:\n",
    "                matrix[i + 1][j + 1] = matrix[i + 1][j]\n",
    "\n",
    "result = ''\n",
    "i = m\n",
    "j = n\n",
    "while i > 0 and j > 0:\n",
    "    if s[i - 1] == t[j - 1]:\n",
    "        result = s[i - 1] + result\n",
    "        i -= 1\n",
    "        j -= 1\n",
    "    else:\n",
    "        if matrix[i - 1][j] > matrix[i][j - 1]:\n",
    "            i -= 1\n",
    "        else:\n",
    "            j -= 1\n",
    "\n",
    "print(result)"
   ]
  },
  {
   "cell_type": "markdown",
   "id": "b8430e1f",
   "metadata": {},
   "source": [
    "# lgis.ipynb"
   ]
  },
  {
   "cell_type": "code",
   "execution_count": null,
   "id": "badc979f",
   "metadata": {},
   "outputs": [],
   "source": [
    "def longplus(seq):\n",
    "    n = len(seq)\n",
    "    dp = [1] * n\n",
    "    prev = [-1] * n\n",
    "    for i in range(1, n):\n",
    "        for j in range(i):\n",
    "            if seq[j] < seq[i] and dp[j] + 1 > dp[i]:\n",
    "                dp[i] = dp[j] + 1\n",
    "                prev[i] = j\n",
    "    max_length = max(dp)\n",
    "    idx = dp.index(max_length)\n",
    "    lis = []\n",
    "    while idx != -1:\n",
    "        lis.append(seq[idx])\n",
    "        idx = prev[idx]\n",
    "    return lis[::-1]\n",
    "\n",
    "def longmoins(seq):\n",
    "    n = len(seq)\n",
    "    dp = [1] * n\n",
    "    prev = [-1] * n\n",
    "    for i in range(1, n):\n",
    "        for j in range(i):\n",
    "            if seq[j] > seq[i] and dp[j] + 1 > dp[i]:\n",
    "                dp[i] = dp[j] + 1\n",
    "                prev[i] = j\n",
    "    max_length = max(dp)\n",
    "    idx = dp.index(max_length)\n",
    "    lds = []\n",
    "    while idx != -1:\n",
    "        lds.append(seq[idx])\n",
    "        idx = prev[idx]\n",
    "    return lds[::-1]\n",
    "\n",
    "with open(\"lgis.txt\") as file:\n",
    "    lines = file.readlines()\n",
    "n = int(lines[0].strip())\n",
    "pi = list(map(int, lines[1].strip().split()))\n",
    "\n",
    "lis = longplus(pi)\n",
    "lds = longmoins(pi)\n",
    "\n",
    "print(\" \".join(map(str, lis)))\n",
    "print(\" \".join(map(str, lds)))\n"
   ]
  },
  {
   "cell_type": "markdown",
   "id": "c860d88a",
   "metadata": {},
   "source": [
    "# sseq.ipynb"
   ]
  },
  {
   "cell_type": "code",
   "execution_count": null,
   "id": "f8c5d81f",
   "metadata": {},
   "outputs": [],
   "source": [
    "filename = 'sseq.txt'\n",
    "\n",
    "with open(filename, 'r') as file:\n",
    "    lines = file.read().splitlines()\n",
    "\n",
    "sequences = []\n",
    "sequence = ''\n",
    "for line in lines:\n",
    "    if line.startswith('>'):\n",
    "        if sequence != '':\n",
    "            sequences.append(sequence)\n",
    "        sequence = ''\n",
    "    else:\n",
    "        sequence += line\n",
    "if sequence != '':\n",
    "    sequences.append(sequence)\n",
    "\n",
    "s = sequences[0]\n",
    "t = sequences[1]\n",
    "\n",
    "indices = []\n",
    "position = -1\n",
    "\n",
    "for char in t:\n",
    "    position = s.find(char, position + 1)\n",
    "    indices.append(position + 1)\n",
    "\n",
    "print(' '.join(map(str, indices)))"
   ]
  }
 ],
 "metadata": {
  "language_info": {
   "name": "python"
  }
 },
 "nbformat": 4,
 "nbformat_minor": 5
}
