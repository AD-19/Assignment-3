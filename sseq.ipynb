{
 "cells": [
  {
   "cell_type": "code",
   "execution_count": 21,
   "metadata": {},
   "outputs": [
    {
     "name": "stdout",
     "output_type": "stream",
     "text": [
      "4 5 10 13 17 18 32 37 41 42 43 46 48 57 68 71 74 78 84 86 104 110 119 121 122 127 128 132 137 140 146 152 155 164 168 176 177 178 184 188 191 198 199 212 217 224 226 230 234 236 238 239 243\n"
     ]
    }
   ],
   "source": [
    "filename = 'sseq.txt'\n",
    "\n",
    "with open(filename, 'r') as file:\n",
    "    lines = file.read().splitlines()\n",
    "\n",
    "sequences = []\n",
    "sequence = ''\n",
    "for line in lines:\n",
    "    if line.startswith('>'):\n",
    "        if sequence != '':\n",
    "            sequences.append(sequence)\n",
    "        sequence = ''\n",
    "    else:\n",
    "        sequence += line\n",
    "if sequence != '':\n",
    "    sequences.append(sequence)\n",
    "\n",
    "s = sequences[0]\n",
    "t = sequences[1]\n",
    "\n",
    "indices = []\n",
    "position = -1\n",
    "\n",
    "for char in t:\n",
    "    position = s.find(char, position + 1)\n",
    "    indices.append(position + 1)\n",
    "\n",
    "print(' '.join(map(str, indices)))"
   ]
  }
 ],
 "metadata": {
  "kernelspec": {
   "display_name": "Python 3",
   "language": "python",
   "name": "python3"
  },
  "language_info": {
   "codemirror_mode": {
    "name": "ipython",
    "version": 3
   },
   "file_extension": ".py",
   "mimetype": "text/x-python",
   "name": "python",
   "nbconvert_exporter": "python",
   "pygments_lexer": "ipython3",
   "version": "3.12.0"
  }
 },
 "nbformat": 4,
 "nbformat_minor": 2
}
