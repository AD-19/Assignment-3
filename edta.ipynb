{
 "cells": [
  {
   "cell_type": "code",
   "execution_count": 1,
   "metadata": {},
   "outputs": [
    {
     "name": "stdout",
     "output_type": "stream",
     "text": [
      "359\n",
      "NCAKAFCDFCA-YDKYPQKDMEWCFKV--WRHVDGDDMWHRGFCNVGLY------W-NWGVAKGLMRKCCPNVGFDQQSHLDAIDHFGTKRMCHMQHYITLQHIWFQWLLQRHLCDKANYMRNDAVMHTCADNTRWCGRL-L-HFTKD-DPVVGAFIVYWCYLQFITDAITGIFCTTECGQGFATNCICWFQGDYNCQPLQDCYFWDYWLNVMVHHQSQLYIV---NYS-TNDMDPEPSFKLEGQ---K---YESYASGHD--MDWGP-NEVFWLQINVETAYEIMELEGTFYHHRPDCSA-F-----KFQCEI--------TFPVNAFYFIQWCTRPIREIEHKSMWITYTRGLRTIRMESVNNNWEECYERLIMTTRLEGANQTKRTECHSYLDILVRWQTPFSCVWTNNNYPCPGKELDDDWQNPASE--F---S--IENHLFFDYHAKPCRTKYSCQE----REIR--------CFERDN--Y----GNFMYNCF-SHR---NKSALFRRISGHFHGNASVSYCSSFDEFM--L-----GFTVNHPKY-------YTPFLQMT-FPR----CHTETWV-FY--WKNNLLGNSYMKDP-FSTQFQEQDMMFLMVEEDR---QQFGQSNSPCAEVRSKPVQKMYWAGHCTSRQNY-HHR-------SFY-PTQWNDVGWNQRMNITKVVG--DGQPHIVWDLEFVSLGCPICRLTTQNGPMCTATERRASTVKSAVHWCAFAASFDQNHTPF-EVFRHGPPYCEDVLWNGNQMITAFNCPCYCDMFHNIMLRFWDFGMH---CCNWHLHGYLIPVVTTQQL-SEYM-HNPHCMFHEDLVSHQCLIAHRWFCYTENRWPPPKLWFRLFPFGMRAGMAPFFREWCAFQWRYKTDE\n",
      "---TDFCAYPAQKHWYPQKDMEGCRHVPGAIWWSGDLMWHRGFCNVGLYWGEGGPWFTWGVASGLMFKCCPHVMF-------AID-YWFMAM-LDEFYITLQHIWFQW-----LCDKANSM----VMHTC-KNTCWCGRLYLHHFTKDYKFGCSTSRCYWCYLQFCVQEDT----EPNQGQGFAT-RRGRFQGDYNCQP------WD--GN--QHHQSQLYKVSMRGTSWGLYSTPEPSFKLEGQKVVKHMLDESPASGHDKCSDWGPIPEVYWLQINVETAYEVSELEGTFVHHRPDCSAFFESTLDFFQCEIEMFVWWLFGFPVNAFYFIQWCNRP---I-HKS---------RTIRMEFVNNNWEMSYERLIMTPRLEIANQTKRTECHSY----VDWQTP--VVWTNNNYPCPGKELDDD-QNGASEFWFPWVSCLIENHLFVDYHAKPCRTKVSCQEYDYYMEIREDYNFMCICFERDNYPYRAVFQNFMYNCFMQHRQAEHKSALFRRISGMFHGSMSVSYCSSFDEKMLVLQDRPPPTTVNHPKYHGACKRGSTPFLQMTHARRWWAFFHTETWVNAYGGWKNSYAVYLFFKDPMESTCFQEQDMMFLTVEADRLMTYPFGQSNSPCAEVRSKPVQKMCWAGHCTSRQNYMHRRCQDFQVGHFYDCTQWNDVGW----NITKVVGHHWYKTSIVWDLEFVSLGCPICRL-T----MCTMTE---------VHWCAFAASFNQNHTPFRDVF-HGPPYFEAVLWNGNQMITAFNCPCYCDMFHNIMLAFWDFGMHSLSGCNRHLHEYLMHNPHPISLIKGLMFHEDLPVQRSDYASHQDLIAHRWF--------MDAHWFRLHWFGMRAGMAPFFREWCAFQWRYKTEE\n"
     ]
    }
   ],
   "source": [
    "filename = 'edta.txt'\n",
    "\n",
    "with open(filename, 'r') as file:\n",
    "    lines = file.read().splitlines()\n",
    "\n",
    "sequences = []\n",
    "seq = ''\n",
    "for line in lines:\n",
    "    if line.startswith('>'):\n",
    "        if seq != '':\n",
    "            sequences.append(seq)\n",
    "        seq = ''\n",
    "    else:\n",
    "        seq += line\n",
    "if seq != '':\n",
    "    sequences.append(seq)\n",
    "\n",
    "s = sequences[0]\n",
    "t = sequences[1]\n",
    "\n",
    "m = len(s)\n",
    "n = len(t)\n",
    "\n",
    "dp = [[0] * (n + 1) for c in range(m + 1)]\n",
    "ptr = [[''] * (n + 1) for d in range(m + 1)]\n",
    "\n",
    "for i in range(m + 1):\n",
    "    dp[i][0] = i\n",
    "    ptr[i][0] = 'up'\n",
    "for j in range(n + 1):\n",
    "    dp[0][j] = j\n",
    "    ptr[0][j] = 'left'\n",
    "\n",
    "for i in range(1, m + 1):\n",
    "    for j in range(1, n + 1):\n",
    "        if s[i - 1] == t[j - 1]:\n",
    "            dp[i][j] = dp[i - 1][j - 1]\n",
    "            ptr[i][j] = 'diag'\n",
    "        else:\n",
    "            choices = [\n",
    "                (dp[i - 1][j] + 1, 'up'),\n",
    "                (dp[i][j - 1] + 1, 'left'),\n",
    "                (dp[i - 1][j - 1] + 1, 'diag')\n",
    "            ]\n",
    "            dp[i][j], ptr[i][j] = min(choices)\n",
    "\n",
    "i = m\n",
    "j = n\n",
    "s_align = ''\n",
    "t_align = ''\n",
    "\n",
    "while i > 0 or j > 0:\n",
    "    if ptr[i][j] == 'diag':\n",
    "        s_align = s[i - 1] + s_align\n",
    "        t_align = t[j - 1] + t_align\n",
    "        i -= 1\n",
    "        j -= 1\n",
    "    elif ptr[i][j] == 'up':\n",
    "        s_align = s[i - 1] + s_align\n",
    "        t_align = '-' + t_align\n",
    "        i -= 1\n",
    "    elif ptr[i][j] == 'left':\n",
    "        s_align = '-' + s_align\n",
    "        t_align = t[j - 1] + t_align\n",
    "        j -= 1\n",
    "\n",
    "print(dp[m][n])\n",
    "print(s_align)\n",
    "print(t_align)"
   ]
  }
 ],
 "metadata": {
  "kernelspec": {
   "display_name": "Python 3",
   "language": "python",
   "name": "python3"
  },
  "language_info": {
   "codemirror_mode": {
    "name": "ipython",
    "version": 3
   },
   "file_extension": ".py",
   "mimetype": "text/x-python",
   "name": "python",
   "nbconvert_exporter": "python",
   "pygments_lexer": "ipython3",
   "version": "3.12.0"
  }
 },
 "nbformat": 4,
 "nbformat_minor": 2
}
