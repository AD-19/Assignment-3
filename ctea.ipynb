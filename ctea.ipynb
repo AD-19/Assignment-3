{
 "cells": [
  {
   "cell_type": "code",
   "execution_count": 2,
   "metadata": {},
   "outputs": [
    {
     "name": "stdout",
     "output_type": "stream",
     "text": [
      "61696040\n"
     ]
    }
   ],
   "source": [
    "filename = 'ctea.txt'\n",
    "\n",
    "with open(filename, 'r') as file:\n",
    "    lines = file.read().splitlines()\n",
    "\n",
    "sequences = []\n",
    "seq = ''\n",
    "for line in lines:\n",
    "    if line.startswith('>'):\n",
    "        if seq != '':\n",
    "            sequences.append(seq)\n",
    "        seq = ''\n",
    "    else:\n",
    "        seq += line\n",
    "if seq != '':\n",
    "    sequences.append(seq)\n",
    "\n",
    "s = sequences[0]\n",
    "t = sequences[1]\n",
    "\n",
    "mod = 134217727\n",
    "m = len(s)\n",
    "n = len(t)\n",
    "\n",
    "dp = [[0] * (n + 1) for c in range(m + 1)]\n",
    "count = [[0] * (n + 1) for d in range(m + 1)]\n",
    "\n",
    "for i in range(m + 1):\n",
    "    dp[i][0] = i\n",
    "    count[i][0] = 1\n",
    "for j in range(n + 1):\n",
    "    dp[0][j] = j\n",
    "    count[0][j] = 1\n",
    "\n",
    "for i in range(1, m + 1):\n",
    "    for j in range(1, n + 1):\n",
    "        if s[i - 1] == t[j - 1]:\n",
    "            cost = 0\n",
    "        else:\n",
    "            cost = 1\n",
    "\n",
    "        options = [\n",
    "            (dp[i - 1][j] + 1, count[i - 1][j]),          # Delete\n",
    "            (dp[i][j - 1] + 1, count[i][j - 1]),          # Insert\n",
    "            (dp[i - 1][j - 1] + cost, count[i - 1][j - 1])  # Subs\n",
    "        ]\n",
    "\n",
    "        min_cost = min(options, key=lambda x: x[0])[0]\n",
    "        dp[i][j] = min_cost\n",
    "        total = 0\n",
    "        for option_cost, option_count in options:\n",
    "            if option_cost == min_cost:\n",
    "                total = (total + option_count) % mod\n",
    "        count[i][j] = total\n",
    "\n",
    "print(count[m][n] % mod)"
   ]
  }
 ],
 "metadata": {
  "kernelspec": {
   "display_name": "Python 3",
   "language": "python",
   "name": "python3"
  },
  "language_info": {
   "codemirror_mode": {
    "name": "ipython",
    "version": 3
   },
   "file_extension": ".py",
   "mimetype": "text/x-python",
   "name": "python",
   "nbconvert_exporter": "python",
   "pygments_lexer": "ipython3",
   "version": "3.12.0"
  }
 },
 "nbformat": 4,
 "nbformat_minor": 2
}
