{
 "cells": [
  {
   "cell_type": "code",
   "execution_count": 1,
   "metadata": {},
   "outputs": [
    {
     "name": "stdout",
     "output_type": "stream",
     "text": [
      "403\n"
     ]
    }
   ],
   "source": [
    "filename = 'edit.txt'\n",
    "\n",
    "with open(filename, 'r') as file:\n",
    "    lines = file.read().splitlines()\n",
    "\n",
    "sequences = []\n",
    "seq = ''\n",
    "for line in lines:\n",
    "    if line.startswith('>'):\n",
    "        if seq != '':\n",
    "            sequences.append(seq)\n",
    "        seq = ''\n",
    "    else:\n",
    "        seq += line\n",
    "if seq != '':\n",
    "    sequences.append(seq)\n",
    "\n",
    "s = sequences[0]\n",
    "t = sequences[1]\n",
    "\n",
    "m = len(s)\n",
    "n = len(t)\n",
    "\n",
    "matrix = [[0] * (n + 1) for c in range(m + 1)]\n",
    "\n",
    "for i in range(m + 1):\n",
    "    matrix[i][0] = i\n",
    "for j in range(n + 1):\n",
    "    matrix[0][j] = j\n",
    "\n",
    "for i in range(1, m + 1):\n",
    "    for j in range(1, n + 1):\n",
    "        if s[i - 1] == t[j - 1]:\n",
    "            cost = 0\n",
    "        else:\n",
    "            cost = 1\n",
    "        matrix[i][j] = min(\n",
    "            matrix[i - 1][j] + 1,\n",
    "            matrix[i][j - 1] + 1,\n",
    "            matrix[i - 1][j - 1] + cost\n",
    "        )\n",
    "\n",
    "print(matrix[m][n])"
   ]
  }
 ],
 "metadata": {
  "kernelspec": {
   "display_name": "Python 3",
   "language": "python",
   "name": "python3"
  },
  "language_info": {
   "codemirror_mode": {
    "name": "ipython",
    "version": 3
   },
   "file_extension": ".py",
   "mimetype": "text/x-python",
   "name": "python",
   "nbconvert_exporter": "python",
   "pygments_lexer": "ipython3",
   "version": "3.12.0"
  }
 },
 "nbformat": 4,
 "nbformat_minor": 2
}
